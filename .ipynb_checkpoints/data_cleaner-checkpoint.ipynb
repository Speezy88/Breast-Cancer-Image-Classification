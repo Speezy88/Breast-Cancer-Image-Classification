{
 "cells": [
  {
   "cell_type": "code",
   "execution_count": 39,
   "id": "fde22582-9026-42d2-8fb8-0c2e2745f62c",
   "metadata": {},
   "outputs": [],
   "source": [
    "import pandas as pd\n",
    "import numpy"
   ]
  },
  {
   "cell_type": "code",
   "execution_count": 45,
   "id": "d64cd81a-7693-4ee4-a5f3-e8489422ff2d",
   "metadata": {},
   "outputs": [],
   "source": [
    "def main():\n",
    "    org_df = pd.read_csv('cancer.csv')\n",
    "    df = org_df.copy()\n",
    "    df.drop(columns=['Id'], axis=1, inplace=True)\n",
    "    fmapping = {\"B\": 0, \"M\": 1}\n",
    "    df[\"Diagnosis\"] = df[\"Diagnosis\"].map(fmapping)\n",
    "    df = (df - df.min()) / (df.max() - df.min())\n",
    "    df.to_csv('br_cancer_normalized.csv', index=False)\n",
    "            \n"
   ]
  },
  {
   "cell_type": "code",
   "execution_count": 47,
   "id": "d5575594-d93a-4c6f-8e19-39efdeccfdf2",
   "metadata": {},
   "outputs": [],
   "source": [
    "main()"
   ]
  },
  {
   "cell_type": "code",
   "execution_count": null,
   "id": "6fb2dac4-915a-4124-a8e4-23821187174a",
   "metadata": {},
   "outputs": [],
   "source": []
  },
  {
   "cell_type": "code",
   "execution_count": null,
   "id": "ac4275b3-53b9-4426-94cd-65813564811c",
   "metadata": {},
   "outputs": [],
   "source": []
  }
 ],
 "metadata": {
  "kernelspec": {
   "display_name": "Python [conda env:base] *",
   "language": "python",
   "name": "conda-base-py"
  },
  "language_info": {
   "codemirror_mode": {
    "name": "ipython",
    "version": 3
   },
   "file_extension": ".py",
   "mimetype": "text/x-python",
   "name": "python",
   "nbconvert_exporter": "python",
   "pygments_lexer": "ipython3",
   "version": "3.12.2"
  }
 },
 "nbformat": 4,
 "nbformat_minor": 5
}
