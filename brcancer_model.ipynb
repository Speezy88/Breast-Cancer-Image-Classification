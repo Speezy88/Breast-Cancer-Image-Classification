{
 "cells": [
  {
   "cell_type": "code",
   "execution_count": 2,
   "id": "7f84d0dc-2760-4c4e-9727-61c2204a0fb9",
   "metadata": {},
   "outputs": [],
   "source": [
    "import torch\n",
    "import torch.nn as nn\n",
    "import torch.nn.functional as F\n",
    "import torch.optim as optim\n",
    "import matplotlib as plt\n",
    "from torch.utils.data import DataLoader"
   ]
  },
  {
   "cell_type": "code",
   "execution_count": 27,
   "id": "c6745689-1dd8-4516-8729-8ad704804e32",
   "metadata": {},
   "outputs": [],
   "source": [
    "\n",
    "class BinaryClassifier(nn.Module):\n",
    "    def __init__(self, input_dim, hidden_layers):\n",
    "        super(BinaryClassifier, self).__init__()\n",
    "        layers = []\n",
    "        #add fully connected layers with the input dim dividing by two each time the input shape\n",
    "        output_dim = max(input_dim//(2), 1)\n",
    "        for i in range(hidden_layers):\n",
    "            i += 1\n",
    "            layers.append(nn.Linear(input_dim,output_dim))\n",
    "            layers.append(nn.ReLU())\n",
    "            input_dim = output_dim\n",
    "            output_dim = max(input_dim//(2*i), 1)\n",
    "        #add final layer with sigmiod output and final linear layer\n",
    "        layers.append(nn.Linear(input_dim,1))\n",
    "        layers.append(nn.Sigmoid())\n",
    "\n",
    "        #create a Seqeuntial implementation, no additional layers but provides one line to run through all layers\n",
    "        self.network = nn.Sequential(*layers)\n",
    "    \n",
    "    def forward(self, x):\n",
    "        #apply the neural net\n",
    "        return self.network(x)"
   ]
  },
  {
   "cell_type": "code",
   "execution_count": 29,
   "id": "d9eac9af-b0d8-4319-8caf-a2a7f1165b8b",
   "metadata": {},
   "outputs": [],
   "source": [
    "#input shape is not correct\n",
    "input_shape = 30\n",
    "hidden_layers = 5\n",
    "model_1 = BinaryClassifier(input_shape, hidden_layers)"
   ]
  },
  {
   "cell_type": "code",
   "execution_count": null,
   "id": "e57e0389-d588-4891-8b1d-e3d15d6030a1",
   "metadata": {},
   "outputs": [],
   "source": [
    "optimizer = optim.Adam(model_1.parameters(), lr=1e-3)\n",
    "loss_fn = nn.BCEloss()"
   ]
  },
  {
   "cell_type": "code",
   "execution_count": null,
   "id": "5bb6fce4-8c15-465e-94b2-38db0ff0e49c",
   "metadata": {},
   "outputs": [],
   "source": [
    "#import whatever data loader function is needed\n",
    "from cancer_train_test_split import train_test_split\n",
    "#should output train dataloader and test dataloader  as the full train and test datasets\n",
    "train_data , test_data = train_test_split()"
   ]
  },
  {
   "cell_type": "code",
   "execution_count": null,
   "id": "0df1fdcf-2792-4b7e-b1f3-2952a50fdbfd",
   "metadata": {},
   "outputs": [],
   "source": [
    "#turn train data into epochs"
   ]
  },
  {
   "cell_type": "code",
   "execution_count": null,
   "id": "626d78e2-0d19-40b3-ad6a-05ab4e269897",
   "metadata": {},
   "outputs": [],
   "source": [
    "# Training loop\n",
    "def train(loss_fn,optimizer, data, model):\n",
    "    num_epochs = 10\n",
    "    epochs_loss = []\n",
    "    epochs_acr = []\n",
    "    for epoch in range(num_epochs):\n",
    "        model.train()\n",
    "        epoch_loss = 0.0\n",
    "        correct = 0\n",
    "        total = 0\n",
    "        \n",
    "        for batch_X, batch_y in data:\n",
    "            optimizer.zero_grad()\n",
    "            \n",
    "            outputs = model(batch_X)            # forward\n",
    "            loss = loss_fn(outputs, batch_y)  # compute loss\n",
    "            loss.backward()                     # backprop\n",
    "            optimizer.step()                    # update weights\n",
    "            \n",
    "            epoch_loss += loss.item() * batch_X.size(0)\n",
    "            \n",
    "            # accuracy calculation\n",
    "            preds = (outputs > 0.5).float()\n",
    "            correct += (preds == batch_y).sum().item()\n",
    "            total += batch_y.size(0)\n",
    "        \n",
    "        avg_loss = epoch_loss / total\n",
    "        accuracy = correct / total\n",
    "        epochs_loss.append(avg_loss)\n",
    "        epochs_acr.append(accuracy)\n",
    "        print(f\"Epoch [{epoch+1}/{num_epochs}] Loss: {avg_loss:.4f} Acc: {accuracy:.4f}\")\n",
    "    return model, epochs_loss, epochs_acr"
   ]
  },
  {
   "cell_type": "code",
   "execution_count": null,
   "id": "65bf1e12-c5ba-4ff6-ba9f-a4eab2a4c19e",
   "metadata": {},
   "outputs": [],
   "source": [
    "def test(model, data, criterion, device=\"cpu\"):\n",
    "    model.eval()  # evaluation mode\n",
    "    test_loss = 0.0\n",
    "    correct = 0\n",
    "    total = 0\n",
    "    \n",
    "    with torch.no_grad():\n",
    "        for batch_X, batch_y in data:\n",
    "            batch_X, batch_y = batch_X.to(device), batch_y.to(device)\n",
    "            \n",
    "            logits = model(batch_X)                # raw outputs\n",
    "            loss = criterion(logits, batch_y)\n",
    "            \n",
    "            test_loss += loss.item() * batch_X.size(0)\n",
    "            \n",
    "            # convert logits -> probabilities -> predictions\n",
    "            preds = torch.sigmoid(logits) > 0.5\n",
    "            correct += (preds.float() == batch_y).sum().item()\n",
    "            total += batch_y.size(0)\n",
    "    \n",
    "    avg_loss = test_loss / total\n",
    "    accuracy = correct / total\n",
    "    print(f\"Test Loss: {avg_loss:.4f} | Test Acc: {accuracy:.4f}\")\n",
    "    return avg_loss, accuracy"
   ]
  },
  {
   "cell_type": "code",
   "execution_count": null,
   "id": "44b83567-2e4a-418d-bd25-de31efcb4b20",
   "metadata": {},
   "outputs": [],
   "source": [
    "#training model\n",
    "trained_model_1,epochs_loss,epochs_arc = train(loss_fn,optimizer, train_epoch_data, model_1)"
   ]
  },
  {
   "cell_type": "code",
   "execution_count": null,
   "id": "5ec1b415-cd65-4845-af8d-993ce07965b6",
   "metadata": {},
   "outputs": [],
   "source": [
    "#testing model\n",
    "avg_loss, accuracy = test(trained_model, train_data, loss_fn)\n",
    "print(f'testing loss {avg_loss}, model accuracy {accuracy}')"
   ]
  },
  {
   "cell_type": "code",
   "execution_count": null,
   "id": "e7287c47-5d34-4408-a332-be8bf668e152",
   "metadata": {},
   "outputs": [],
   "source": [
    "plt.plot(epochs_loss)\n",
    "plt.ylabel('training loss')\n",
    "plt.xlabel('epochs')\n",
    "plt.show()"
   ]
  },
  {
   "cell_type": "code",
   "execution_count": null,
   "id": "79b375aa-611f-405e-ab19-c9dad76eb65a",
   "metadata": {},
   "outputs": [],
   "source": []
  }
 ],
 "metadata": {
  "kernelspec": {
   "display_name": "Python [conda env:base] *",
   "language": "python",
   "name": "conda-base-py"
  },
  "language_info": {
   "codemirror_mode": {
    "name": "ipython",
    "version": 3
   },
   "file_extension": ".py",
   "mimetype": "text/x-python",
   "name": "python",
   "nbconvert_exporter": "python",
   "pygments_lexer": "ipython3",
   "version": "3.12.2"
  }
 },
 "nbformat": 4,
 "nbformat_minor": 5
}
