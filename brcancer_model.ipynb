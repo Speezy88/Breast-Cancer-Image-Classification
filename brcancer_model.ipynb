{
 "cells": [
  {
   "cell_type": "code",
   "execution_count": 25,
   "id": "7f84d0dc-2760-4c4e-9727-61c2204a0fb9",
   "metadata": {},
   "outputs": [],
   "source": [
    "import torch\n",
    "import torch.nn as nn\n",
    "import torch.nn.functional as F"
   ]
  },
  {
   "cell_type": "code",
   "execution_count": 27,
   "id": "c6745689-1dd8-4516-8729-8ad704804e32",
   "metadata": {},
   "outputs": [],
   "source": [
    "\n",
    "class BinaryClassifier(nn.Module):\n",
    "    def __init__(self, input_dim, hidden_layers):\n",
    "        super(BinaryClassifier, self).__init__()\n",
    "        layers = []\n",
    "        #add fully connected layers with the input dim dividing by two each time the input shape\n",
    "        output_dim = max(input_dim//(2), 1)\n",
    "        for i in range(hidden_layers):\n",
    "            i += 1\n",
    "            layers.append(nn.Linear(input_dim,output_dim))\n",
    "            layers.append(nn.ReLU())\n",
    "            input_dim = output_dim\n",
    "            output_dim = max(input_dim//(2*i), 1)\n",
    "        #add final layer with sigmiod output and final linear layer\n",
    "        layers.append(nn.Linear(input_dim,1))\n",
    "        layers.append(nn.Sigmoid())\n",
    "\n",
    "        #create a Seqeuntial implementation, no additional layers but provides one line to run through all layers\n",
    "        self.network = nn.Sequential(*layers)\n",
    "    \n",
    "    def forward(self, x):\n",
    "        #apply the neural net\n",
    "        return self.network(x)"
   ]
  },
  {
   "cell_type": "code",
   "execution_count": 29,
   "id": "d9eac9af-b0d8-4319-8caf-a2a7f1165b8b",
   "metadata": {},
   "outputs": [],
   "source": [
    "#input shape is not correct\n",
    "input_shape = 9\n",
    "hidden_layers = 5\n",
    "model_1 = BinaryClassifier(input_shape, hidden_layers)"
   ]
  },
  {
   "cell_type": "code",
   "execution_count": null,
   "id": "5af4d9eb-35fd-453f-a249-7977827cdf30",
   "metadata": {},
   "outputs": [],
   "source": [
    "loss_fn = torch.nn.BCELoss()"
   ]
  },
  {
   "cell_type": "code",
   "execution_count": null,
   "id": "626d78e2-0d19-40b3-ad6a-05ab4e269897",
   "metadata": {},
   "outputs": [],
   "source": []
  }
 ],
 "metadata": {
  "kernelspec": {
   "display_name": "Python [conda env:base] *",
   "language": "python",
   "name": "conda-base-py"
  },
  "language_info": {
   "codemirror_mode": {
    "name": "ipython",
    "version": 3
   },
   "file_extension": ".py",
   "mimetype": "text/x-python",
   "name": "python",
   "nbconvert_exporter": "python",
   "pygments_lexer": "ipython3",
   "version": "3.12.7"
  }
 },
 "nbformat": 4,
 "nbformat_minor": 5
}
