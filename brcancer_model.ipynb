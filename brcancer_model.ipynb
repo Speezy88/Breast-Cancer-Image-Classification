{
 "cells": [
  {
   "cell_type": "code",
   "execution_count": 126,
   "id": "7f84d0dc-2760-4c4e-9727-61c2204a0fb9",
   "metadata": {},
   "outputs": [],
   "source": [
    "import torch\n",
    "import torch.nn as nn\n",
    "import torch.nn.functional as F\n",
    "import torch.optim as optim\n",
    "import matplotlib as plt\n",
    "from torch.utils.data import DataLoader\n",
    "from sklearn.model_selection import StratifiedKFold\n",
    "import numpy as np"
   ]
  },
  {
   "cell_type": "code",
   "execution_count": 127,
   "id": "c6745689-1dd8-4516-8729-8ad704804e32",
   "metadata": {},
   "outputs": [],
   "source": [
    "\n",
    "class BinaryClassifier(nn.Module):\n",
    "    def __init__(self, input_dim, hidden_layers):\n",
    "        super(BinaryClassifier, self).__init__()\n",
    "        layers = []\n",
    "        #add fully connected layers with the input dim dividing by two each time the input shape\n",
    "        output_dim = max(input_dim//(2), 1)\n",
    "        for i in range(hidden_layers):\n",
    "            i += 1\n",
    "            layers.append(nn.Linear(input_dim,output_dim))\n",
    "            layers.append(nn.ReLU())\n",
    "            input_dim = output_dim\n",
    "            output_dim = max(input_dim//(2*i), 1)\n",
    "        #add final layer with sigmiod output and final linear layer\n",
    "        layers.append(nn.Linear(input_dim,1))\n",
    "        layers.append(nn.Sigmoid())\n",
    "\n",
    "        #create a Seqeuntial implementation, no additional layers but provides one line to run through all layers\n",
    "        self.network = nn.Sequential(*layers)\n",
    "    \n",
    "    def forward(self, x):\n",
    "        #apply the neural net\n",
    "        return self.network(x)"
   ]
  },
  {
   "cell_type": "code",
   "execution_count": 128,
   "id": "d9eac9af-b0d8-4319-8caf-a2a7f1165b8b",
   "metadata": {},
   "outputs": [],
   "source": [
    "#input shape is not correct\n",
    "input_shape = 30\n",
    "hidden_layers = 5\n",
    "model_1 = BinaryClassifier(input_shape, hidden_layers)"
   ]
  },
  {
   "cell_type": "code",
   "execution_count": 129,
   "id": "e57e0389-d588-4891-8b1d-e3d15d6030a1",
   "metadata": {},
   "outputs": [],
   "source": [
    "optimizer = optim.Adam(model_1.parameters(), lr=1e-3)\n",
    "loss_fn = nn.BCELoss()"
   ]
  },
  {
   "cell_type": "code",
   "execution_count": 130,
   "id": "2e869731-8f56-45aa-94c2-5d863d17a300",
   "metadata": {},
   "outputs": [],
   "source": [
    "from sklearn.model_selection import train_test_split\n",
    "import pandas as pd\n",
    "from torch.utils.data import DataLoader, TensorDataset"
   ]
  },
  {
   "cell_type": "code",
   "execution_count": 131,
   "id": "a709fd06-93de-491c-8669-2833d1e45d3a",
   "metadata": {},
   "outputs": [],
   "source": [
    "\n",
    "def dataset_to_numpy(dataset: TensorDataset):\n",
    "    X, y = dataset.tensors\n",
    "    # Ensure on CPU and detached from computation graph\n",
    "    X_np = X.detach().numpy()\n",
    "    y_np = y.detach().numpy()\n",
    "    return X_np, y_np\n"
   ]
  },
  {
   "cell_type": "code",
   "execution_count": 132,
   "id": "feb01e77-fa34-4d87-9fcb-a387ea83a9be",
   "metadata": {},
   "outputs": [],
   "source": [
    "def load_data():\n",
    "    # Read data\n",
    "    df = pd.read_csv('cleaned_cancer_data.csv', encoding='latin-1')\n",
    "\n",
    "    # Separate features and labels\n",
    "    X = df.drop(columns=['Diagnosis_encoded', 'Diagnosis']).to_numpy()\n",
    "    y = df['Diagnosis_encoded'].to_numpy()\n",
    "    return X, y"
   ]
  },
  {
   "cell_type": "code",
   "execution_count": 133,
   "id": "5bb6fce4-8c15-465e-94b2-38db0ff0e49c",
   "metadata": {},
   "outputs": [
    {
     "name": "stdout",
     "output_type": "stream",
     "text": [
      "(569, 30) (569,)\n"
     ]
    }
   ],
   "source": [
    "#import whatever data loader function is needed\n",
    "#should output train dataloader and test dataloader  as the full train and test datasets\n",
    "X_np, y_np = load_data()\n",
    "print(X_np.shape, y_np.shape)"
   ]
  },
  {
   "cell_type": "code",
   "execution_count": 134,
   "id": "0df1fdcf-2792-4b7e-b1f3-2952a50fdbfd",
   "metadata": {},
   "outputs": [],
   "source": [
    "#turn train data into epochs"
   ]
  },
  {
   "cell_type": "code",
   "execution_count": 135,
   "id": "626d78e2-0d19-40b3-ad6a-05ab4e269897",
   "metadata": {},
   "outputs": [],
   "source": [
    "# Training loop\n",
    "# def train(loss_fn,optimizer, data, model):\n",
    "#     num_epochs = 10\n",
    "#     epochs_loss = []\n",
    "#     epochs_acr = []\n",
    "#     for epoch in range(num_epochs):\n",
    "#         model.train()\n",
    "#         epoch_loss = 0.0\n",
    "#         correct = 0\n",
    "#         total = 0\n",
    "        \n",
    "#         for batch_X, batch_y in data:\n",
    "#             optimizer.zero_grad()\n",
    "            \n",
    "#             outputs = model(batch_X)            # forward\n",
    "#             loss = loss_fn(outputs, batch_y)  # compute loss\n",
    "#             loss.backward()                     # backprop\n",
    "#             optimizer.step()                    # update weights\n",
    "            \n",
    "#             epoch_loss += loss.item() * batch_X.size(0)\n",
    "            \n",
    "#             # accuracy calculation\n",
    "#             preds = (outputs > 0.5).float()\n",
    "#             correct += (preds == batch_y).sum().item()\n",
    "#             total += batch_y.size(0)\n",
    "        \n",
    "#         avg_loss = epoch_loss / total\n",
    "#         accuracy = correct / total\n",
    "#         epochs_loss.append(avg_loss)\n",
    "#         epochs_acr.append(accuracy)\n",
    "#         print(f\"Epoch [{epoch+1}/{num_epochs}] Loss: {avg_loss:.4f} Acc: {accuracy:.4f}\")\n",
    "#     return model, epochs_loss, epochs_acr"
   ]
  },
  {
   "cell_type": "code",
   "execution_count": null,
   "id": "47ccb801-0d59-4744-b298-e8569e2f5531",
   "metadata": {},
   "outputs": [],
   "source": []
  },
  {
   "cell_type": "code",
   "execution_count": 136,
   "id": "79b0bfe9-a790-433e-b0c2-98f67df1ca63",
   "metadata": {},
   "outputs": [],
   "source": [
    "from statistics import mean, stdev\n",
    "from sklearn import preprocessing\n",
    "from sklearn.model_selection import StratifiedKFold\n",
    "from sklearn import linear_model\n",
    "from sklearn import datasets"
   ]
  },
  {
   "cell_type": "code",
   "execution_count": 185,
   "id": "120b0c90-358e-4ee5-9fcb-40e2e6511666",
   "metadata": {},
   "outputs": [],
   "source": [
    "import torch\n",
    "import torch.nn as nn\n",
    "import torch.optim as optim\n",
    "from torch.utils.data import TensorDataset, DataLoader, Subset\n",
    "from sklearn.model_selection import StratifiedKFold\n",
    "import copy\n",
    "\n",
    "def test(model, data, criterion):\n",
    "    model.eval()\n",
    "    test_loss = 0.0\n",
    "    correct = 0\n",
    "    total = 0\n",
    "    \n",
    "    with torch.no_grad():\n",
    "        for batch_X, batch_y in data:\n",
    "            batch_y = batch_y.unsqueeze(1)\n",
    "            logits = model(batch_X)\n",
    "            loss = criterion(logits, batch_y)\n",
    "            test_loss += loss.item() * batch_X.size(0)\n",
    "\n",
    "            preds = (torch.sigmoid(logits) >= 0.5).float()\n",
    "            correct += (preds == batch_y).sum().item()\n",
    "            total += batch_y.size(0)\n",
    "    \n",
    "    avg_loss = test_loss / total\n",
    "    accuracy = correct / total\n",
    "    print(f\"Test Loss: {avg_loss:.4f} | Test Acc: {accuracy:.4f}\")\n",
    "    return avg_loss, accuracy\n",
    "    \n",
    "\n",
    "def train_with_stratified_kfold(X, y, model_fn, input_shape, hidden_layers, batch_size=32, lr=1e-3, k_folds=, num_epochs=10):\n",
    "    # Wrap into dataset\n",
    "    dataset = TensorDataset(torch.tensor(X, dtype=torch.float32),\n",
    "                            torch.tensor(y, dtype=torch.float32))\n",
    "    \n",
    "    skf = StratifiedKFold(n_splits=k_folds, shuffle=True)\n",
    "    all_fold_results = []\n",
    "\n",
    "    for fold, (train_idx, val_idx) in enumerate(skf.split(X, y)):\n",
    "        print(f\"\\n--- Fold {fold+1} ---\")\n",
    "\n",
    "        train_subset = Subset(dataset, train_idx)\n",
    "        val_subset = Subset(dataset, val_idx)\n",
    "\n",
    "        train_loader = DataLoader(train_subset, batch_size=batch_size, shuffle=True)\n",
    "        val_loader = DataLoader(val_subset, batch_size=batch_size, shuffle=False)\n",
    "     # fresh model for each fold\n",
    "        cur_model = BinaryClassifier(30,5)\n",
    "        criterion = nn.BCEWithLogitsLoss()\n",
    "        optimizer = optim.Adam(cur_model.parameters(), lr=lr)\n",
    "\n",
    "        for epoch in range(num_epochs):\n",
    "            cur_model.train()\n",
    "            epoch_loss = 0.0\n",
    "            correct = 0\n",
    "            total = 0\n",
    "\n",
    "            for batch_X, batch_y in train_loader:\n",
    "                optimizer.zero_grad()\n",
    "                outputs = cur_model(batch_X).squeeze()\n",
    "                loss = criterion(outputs, batch_y)\n",
    "                loss.backward()\n",
    "                optimizer.step()\n",
    "\n",
    "                epoch_loss += loss.item() * batch_X.size(0)\n",
    "                preds = (torch.sigmoid(outputs) >= 0.5).float()\n",
    "                correct += (preds == batch_y).sum().item()\n",
    "                total += batch_y.size(0)\n",
    "\n",
    "            train_acc = correct / total\n",
    "            train_loss = epoch_loss / total\n",
    "            print(f\"Epoch {epoch+1}: Train Loss {train_loss:.4f} | Train Acc {train_acc:.4f}\")\n",
    "\n",
    "        avg_loss, accuracy = test(cur_model, val_loader, criterion)\n",
    "        all_fold_results.append((avg_loss, accuracy))\n",
    "    \n",
    "    return all_fold_results\n"
   ]
  },
  {
   "cell_type": "code",
   "execution_count": 177,
   "id": "65bf1e12-c5ba-4ff6-ba9f-a4eab2a4c19e",
   "metadata": {},
   "outputs": [],
   "source": [
    "# def test(model, data, criterion):\n",
    "#     model.eval()  # evaluation mode\n",
    "#     test_loss = 0.0\n",
    "#     correct = 0\n",
    "#     total = 0\n",
    "    \n",
    "#     with torch.no_grad():\n",
    "#         for batch_X, batch_y in data:\n",
    "            \n",
    "#             logits = model(batch_X)                # raw outputs\n",
    "#             loss = criterion(logits, batch_y)\n",
    "            \n",
    "#             test_loss += loss.item() * batch_X.size(0)\n",
    "            \n",
    "#             # convert logits -> probabilities -> predictions\n",
    "#             preds = torch.sigmoid(logits) > 0.5\n",
    "#             correct += (preds.float() == batch_y).sum().item()\n",
    "#             total += batch_y.size(0)\n",
    "    \n",
    "#     avg_loss = test_loss / total\n",
    "#     accuracy = correct / total\n",
    "#     print(f\"Test Loss: {avg_loss:.4f} | Test Acc: {accuracy:.4f}\")\n",
    "#     return avg_loss, accuracy"
   ]
  },
  {
   "cell_type": "code",
   "execution_count": 179,
   "id": "44b83567-2e4a-418d-bd25-de31efcb4b20",
   "metadata": {},
   "outputs": [],
   "source": [
    "#training model\n",
    "# trained_model_1,epochs_loss,epochs_arc = train(loss_fn,optimizer, train_epoch_data, model_1)"
   ]
  },
  {
   "cell_type": "code",
   "execution_count": 181,
   "id": "5ec1b415-cd65-4845-af8d-993ce07965b6",
   "metadata": {},
   "outputs": [],
   "source": [
    "#testing model\n",
    "# avg_loss, accuracy = test(trained_model, train_data, loss_fn)\n",
    "# print(f'testing loss {avg_loss}, model accuracy {accuracy}')"
   ]
  },
  {
   "cell_type": "code",
   "execution_count": 187,
   "id": "fa0686e2-3cfa-41f4-b8da-25d7009c2650",
   "metadata": {},
   "outputs": [
    {
     "name": "stdout",
     "output_type": "stream",
     "text": [
      "\n",
      "--- Fold 1 ---\n",
      "Epoch 1: Train Loss 0.8194 | Train Acc 0.3736\n",
      "Epoch 2: Train Loss 0.8161 | Train Acc 0.3736\n",
      "Epoch 3: Train Loss 0.8118 | Train Acc 0.3736\n",
      "Epoch 4: Train Loss 0.8067 | Train Acc 0.3736\n",
      "Epoch 5: Train Loss 0.7998 | Train Acc 0.3736\n",
      "Epoch 6: Train Loss 0.7906 | Train Acc 0.3736\n",
      "Epoch 7: Train Loss 0.7800 | Train Acc 0.3736\n",
      "Epoch 8: Train Loss 0.7700 | Train Acc 0.3736\n",
      "Epoch 9: Train Loss 0.7615 | Train Acc 0.3736\n",
      "Epoch 10: Train Loss 0.7548 | Train Acc 0.3736\n",
      "Test Loss: 0.7555 | Test Acc: 0.3684\n",
      "\n",
      "--- Fold 2 ---\n",
      "Epoch 1: Train Loss 0.7728 | Train Acc 0.3736\n",
      "Epoch 2: Train Loss 0.7720 | Train Acc 0.3736\n",
      "Epoch 3: Train Loss 0.7712 | Train Acc 0.3736\n",
      "Epoch 4: Train Loss 0.7704 | Train Acc 0.3736\n",
      "Epoch 5: Train Loss 0.7696 | Train Acc 0.3736\n",
      "Epoch 6: Train Loss 0.7688 | Train Acc 0.3736\n",
      "Epoch 7: Train Loss 0.7681 | Train Acc 0.3736\n",
      "Epoch 8: Train Loss 0.7673 | Train Acc 0.3736\n",
      "Epoch 9: Train Loss 0.7665 | Train Acc 0.3736\n",
      "Epoch 10: Train Loss 0.7657 | Train Acc 0.3736\n",
      "Test Loss: 0.7674 | Test Acc: 0.3684\n",
      "\n",
      "--- Fold 3 ---\n",
      "Epoch 1: Train Loss 0.7944 | Train Acc 0.3714\n",
      "Epoch 2: Train Loss 0.7929 | Train Acc 0.3714\n",
      "Epoch 3: Train Loss 0.7915 | Train Acc 0.3714\n",
      "Epoch 4: Train Loss 0.7900 | Train Acc 0.3714\n",
      "Epoch 5: Train Loss 0.7885 | Train Acc 0.3714\n",
      "Epoch 6: Train Loss 0.7870 | Train Acc 0.3714\n",
      "Epoch 7: Train Loss 0.7855 | Train Acc 0.3714\n",
      "Epoch 8: Train Loss 0.7839 | Train Acc 0.3714\n",
      "Epoch 9: Train Loss 0.7823 | Train Acc 0.3714\n",
      "Epoch 10: Train Loss 0.7806 | Train Acc 0.3714\n",
      "Test Loss: 0.7771 | Test Acc: 0.3772\n",
      "\n",
      "--- Fold 4 ---\n",
      "Epoch 1: Train Loss 0.7943 | Train Acc 0.3714\n",
      "Epoch 2: Train Loss 0.7934 | Train Acc 0.3714\n",
      "Epoch 3: Train Loss 0.7925 | Train Acc 0.3714\n",
      "Epoch 4: Train Loss 0.7916 | Train Acc 0.3714\n",
      "Epoch 5: Train Loss 0.7907 | Train Acc 0.3714\n",
      "Epoch 6: Train Loss 0.7898 | Train Acc 0.3714\n",
      "Epoch 7: Train Loss 0.7889 | Train Acc 0.3714\n",
      "Epoch 8: Train Loss 0.7880 | Train Acc 0.3714\n",
      "Epoch 9: Train Loss 0.7871 | Train Acc 0.3714\n",
      "Epoch 10: Train Loss 0.7863 | Train Acc 0.3714\n",
      "Test Loss: 0.7829 | Test Acc: 0.3772\n",
      "\n",
      "--- Fold 5 ---\n",
      "Epoch 1: Train Loss 0.8298 | Train Acc 0.3728\n",
      "Epoch 2: Train Loss 0.8289 | Train Acc 0.3728\n",
      "Epoch 3: Train Loss 0.8279 | Train Acc 0.3728\n",
      "Epoch 4: Train Loss 0.8270 | Train Acc 0.3728\n",
      "Epoch 5: Train Loss 0.8261 | Train Acc 0.3728\n",
      "Epoch 6: Train Loss 0.8252 | Train Acc 0.3728\n",
      "Epoch 7: Train Loss 0.8243 | Train Acc 0.3728\n",
      "Epoch 8: Train Loss 0.8233 | Train Acc 0.3728\n",
      "Epoch 9: Train Loss 0.8223 | Train Acc 0.3728\n",
      "Epoch 10: Train Loss 0.8214 | Train Acc 0.3728\n",
      "Test Loss: 0.8216 | Test Acc: 0.3717\n"
     ]
    }
   ],
   "source": [
    "#training with \n",
    "fold_results = train_with_stratified_kfold(X_np,y_np,model_1,30,5)"
   ]
  },
  {
   "cell_type": "code",
   "execution_count": null,
   "id": "0f23a452-c62a-4cda-9192-26e98b015c9b",
   "metadata": {},
   "outputs": [],
   "source": [
    "print(fold_results)"
   ]
  },
  {
   "cell_type": "code",
   "execution_count": null,
   "id": "e7287c47-5d34-4408-a332-be8bf668e152",
   "metadata": {},
   "outputs": [],
   "source": [
    "# plt.plot(epochs_loss)\n",
    "# plt.ylabel('training loss')\n",
    "# plt.xlabel('epochs')\n",
    "# plt.show()"
   ]
  },
  {
   "cell_type": "code",
   "execution_count": null,
   "id": "b06d18e5-c94f-4376-9f5e-11c352ab02a1",
   "metadata": {},
   "outputs": [],
   "source": [
    "# # Compatibility check\n",
    "# print(\"=== COMPATIBILITY CHECK ===\")\n",
    "# print(f\"Input shape: {input_shape}\")\n",
    "# print(f\"Hidden layers: {hidden_layers}\")\n",
    "# print(f\"Train data type: {type(train_data)}\")\n",
    "\n",
    "# # Test model creation\n",
    "# test_model = BinaryClassifier(input_shape, hidden_layers)\n",
    "# print(f\"Model created successfully: {test_model}\")\n",
    "\n",
    "# # Test with one batch\n",
    "# for batch_X, batch_y in train_data:\n",
    "#     print(f\"Batch X shape: {batch_X.shape}\")\n",
    "#     print(f\"Batch y shape: {batch_y.shape}\")\n",
    "#     print(f\"Batch y values: {batch_y.unique()}\")\n",
    "    \n",
    "#     # Test forward pass\n",
    "#     test_output = test_model(batch_X)\n",
    "#     print(f\"Model output shape: {test_output.shape}\")\n",
    "#     print(f\"Model output range: {test_output.min().item():.4f} to {test_output.max().item():.4f}\")\n",
    "#     break\n",
    "\n",
    "# print(\"✅ All compatibility checks passed!\")"
   ]
  },
  {
   "cell_type": "code",
   "execution_count": null,
   "id": "79b375aa-611f-405e-ab19-c9dad76eb65a",
   "metadata": {},
   "outputs": [],
   "source": []
  },
  {
   "cell_type": "code",
   "execution_count": null,
   "id": "e6732ca0-ec44-459e-910b-8edaa2dc5b47",
   "metadata": {},
   "outputs": [],
   "source": []
  },
  {
   "cell_type": "code",
   "execution_count": null,
   "id": "5666edc6-fcfe-48c4-9358-62b2d7b601b7",
   "metadata": {},
   "outputs": [],
   "source": []
  }
 ],
 "metadata": {
  "kernelspec": {
   "display_name": "Python [conda env:base] *",
   "language": "python",
   "name": "conda-base-py"
  },
  "language_info": {
   "codemirror_mode": {
    "name": "ipython",
    "version": 3
   },
   "file_extension": ".py",
   "mimetype": "text/x-python",
   "name": "python",
   "nbconvert_exporter": "python",
   "pygments_lexer": "ipython3",
   "version": "3.12.2"
  }
 },
 "nbformat": 4,
 "nbformat_minor": 5
}
