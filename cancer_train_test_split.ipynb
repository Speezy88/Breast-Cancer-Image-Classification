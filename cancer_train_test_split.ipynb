{
 "cells": [
  {
   "cell_type": "code",
   "execution_count": 1,
   "id": "20bbdc47-7009-467d-bae1-ba2097943423",
   "metadata": {},
   "outputs": [],
   "source": [
    "import pandas as pd"
   ]
  },
  {
   "cell_type": "code",
   "execution_count": 2,
   "id": "e613efcf-f3d2-4da7-8e28-bdcd0f799715",
   "metadata": {},
   "outputs": [],
   "source": [
    "from sklearn.model_selection import train_test_split"
   ]
  },
  {
   "cell_type": "code",
   "execution_count": 3,
   "id": "49b44198-8991-4e85-84a7-c46bc280e46d",
   "metadata": {},
   "outputs": [],
   "source": [
    "df = pd.read_csv('cleaned_cancer_data.csv', encoding = 'latin-1')"
   ]
  },
  {
   "cell_type": "code",
   "execution_count": 7,
   "id": "bfe007b9-6d0d-4e31-a729-e03c8eab1b29",
   "metadata": {},
   "outputs": [],
   "source": [
    "X = df.drop(columns = ['Diagnosis_encoded', 'Diagnosis'])"
   ]
  },
  {
   "cell_type": "code",
   "execution_count": 9,
   "id": "567a2904-a3d6-4b1c-8ced-d56bf8541567",
   "metadata": {},
   "outputs": [],
   "source": [
    "y = df['Diagnosis_encoded']"
   ]
  },
  {
   "cell_type": "code",
   "execution_count": 14,
   "id": "268cf039-6959-4e06-9a6f-f0c443bbd7fc",
   "metadata": {},
   "outputs": [],
   "source": [
    "X_train, X_test, y_train, y_test = train_test_split(X,y, random_state=11, test_size=0.2)"
   ]
  },
  {
   "cell_type": "code",
   "execution_count": null,
   "id": "6c16ea7d-d9f1-4fcc-bd35-286d375f6280",
   "metadata": {},
   "outputs": [],
   "source": [
    "def train_test_split():\n",
    "    df = pd.read_csv('cleaned_cancer_data.csv', encoding = 'latin-1')\n",
    "    X = df.drop(columns = ['Diagnosis_encoded', 'Diagnosis'])\n",
    "    y = df['Diagnosis_encoded']\n",
    "    X_train, X_test, y_train, y_test = train_test_split(X,y, random_state=11, test_size=0.2)\n",
    "    return ([X_train,X_test], [y_train,y_test])"
   ]
  }
 ],
 "metadata": {
  "kernelspec": {
   "display_name": "Python [conda env:base] *",
   "language": "python",
   "name": "conda-base-py"
  },
  "language_info": {
   "codemirror_mode": {
    "name": "ipython",
    "version": 3
   },
   "file_extension": ".py",
   "mimetype": "text/x-python",
   "name": "python",
   "nbconvert_exporter": "python",
   "pygments_lexer": "ipython3",
   "version": "3.12.2"
  }
 },
 "nbformat": 4,
 "nbformat_minor": 5
}
